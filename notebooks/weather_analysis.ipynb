{
 "cells": [
  {
   "cell_type": "code",
   "execution_count": null,
   "metadata": {},
   "outputs": [],
   "source": [
    "df = pd.read_csv(\"../results/meteo_2019\")\n",
    "for year in ['2020', '2021', '2022', '2023']:\n",
    "    path = \"../results/meteo_\" + year\n",
    "    df2 = pd.read_csv(path)\n",
    "    df = pd.concat([df, df2], axis=0)\n",
    "df.head()"
   ]
  }
 ],
 "metadata": {
  "language_info": {
   "name": "python"
  },
  "orig_nbformat": 4
 },
 "nbformat": 4,
 "nbformat_minor": 2
}
